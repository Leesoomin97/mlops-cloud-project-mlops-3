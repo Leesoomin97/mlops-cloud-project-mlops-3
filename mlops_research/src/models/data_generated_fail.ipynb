{
 "cells": [
  {
   "cell_type": "code",
   "execution_count": 2,
   "id": "653af5ae-68c9-4ee3-a469-14565603b1cd",
   "metadata": {},
   "outputs": [],
   "source": [
    "import pandas as pd\n",
    "import numpy as np\n",
    "from sklearn.decomposition import TruncatedSVD"
   ]
  },
  {
   "cell_type": "code",
   "execution_count": 3,
   "id": "f73b1851-58da-4a17-b736-2661e91d4839",
   "metadata": {},
   "outputs": [],
   "source": [
    "# ----------------------\n",
    "# 1. 원본 게임 데이터 로드\n",
    "# ----------------------\n",
    "df = pd.read_csv(\"popular_games.csv\")\n",
    "\n",
    "games = df[[\"game_id\", \"game_name\", \"playtime\", \"rating\", \"genre\", \"owned_ratio\"]].copy()\n",
    "\n",
    "# ----------------------\n",
    "# 2. 선택 확률 계산 (owned_ratio + rating)\n",
    "# ----------------------\n",
    "ratio_norm  = (games[\"owned_ratio\"] - games[\"owned_ratio\"].min()) / (games[\"owned_ratio\"].max() - games[\"owned_ratio\"].min())\n",
    "rating_norm = (games[\"rating\"] - games[\"rating\"].min()) / (games[\"rating\"].max() - games[\"rating\"].min())\n",
    "score = 0.6 * ratio_norm + 0.4 * rating_norm\n",
    "\n",
    "# softmax 변환\n",
    "p = np.exp(score - score.max())\n",
    "p = p / p.sum()"
   ]
  },
  {
   "cell_type": "code",
   "execution_count": 4,
   "id": "2df247b3-e591-4bc4-a0e0-eddfc42d6582",
   "metadata": {},
   "outputs": [
    {
     "name": "stdout",
     "output_type": "stream",
     "text": [
      "가상데이터 예시:\n",
      "  user_name  game_id  score\n",
      "0    user_0   665016  2.933\n",
      "1    user_0    12895  3.088\n",
      "2    user_0    12606  2.905\n",
      "3    user_0   966102  2.774\n",
      "4    user_0   442840  3.124\n"
     ]
    }
   ],
   "source": [
    "# ----------------------\n",
    "# 3. 가상 유저-게임 상호작용 생성\n",
    "# ----------------------\n",
    "n_users = 100   # 유저 수\n",
    "k = 5           # 각 유저가 선택하는 게임 수\n",
    "\n",
    "interactions = []\n",
    "rng = np.random.default_rng(42)\n",
    "\n",
    "for u in range(n_users):\n",
    "    chosen = rng.choice(games[\"game_id\"].values, size=k, replace=False, p=p)\n",
    "    for g in chosen:\n",
    "        row = games.loc[games[\"game_id\"] == g]\n",
    "        base_rating = row[\"rating\"].values[0]\n",
    "        base_ratio  = row[\"owned_ratio\"].values[0]\n",
    "        # rating + owned_ratio 결합 점수\n",
    "        value = 0.7 * base_rating + 0.3 * base_ratio\n",
    "        interactions.append((f\"user_{u}\", g, value))   # user 이름은 \"user_0\", \"user_1\", ...\n",
    "\n",
    "interactions = pd.DataFrame(interactions, columns=[\"user_name\", \"game_id\", \"score\"])\n",
    "\n",
    "print(\"가상데이터 예시:\")\n",
    "print(interactions.head())\n",
    "\n",
    "# ----------------------\n",
    "# 4. 유저-게임 행렬 생성\n",
    "# ----------------------\n",
    "mat = interactions.pivot_table(index=\"user_name\", columns=\"game_id\", values=\"score\", aggfunc=\"mean\").fillna(0.0)\n"
   ]
  },
  {
   "cell_type": "code",
   "execution_count": 5,
   "id": "1c8b579e-6bdc-4204-92c0-43c7ad2f7ab9",
   "metadata": {},
   "outputs": [],
   "source": [
    "# ----------------------\n",
    "# 5. SVD 기반 추천 함수\n",
    "# ----------------------\n",
    "def svd_recommend(user_name, top_n=5, n_components=10):\n",
    "    svd = TruncatedSVD(n_components=min(n_components, min(mat.shape)-1), random_state=42)\n",
    "    U = svd.fit_transform(mat.values)\n",
    "    Vt = svd.components_\n",
    "    recon = np.dot(U, Vt)\n",
    "    \n",
    "    # user index 찾기\n",
    "    user_idx = list(mat.index).index(user_name)\n",
    "    user_actual = mat.values[user_idx]\n",
    "    user_pred = recon[user_idx]\n",
    "    \n",
    "    # 안 본 게임만 추천\n",
    "    recommendations = {\n",
    "        gid: pred for gid, pred in zip(mat.columns, user_pred) if user_actual[mat.columns.get_loc(gid)] == 0\n",
    "    }\n",
    "    top_games = sorted(recommendations, key=recommendations.get, reverse=True)[:top_n]\n",
    "    \n",
    "    # game_id → name 변환\n",
    "    game_names = games.set_index(\"game_id\").loc[top_games, \"game_name\"].values.tolist()\n",
    "    return game_names"
   ]
  },
  {
   "cell_type": "code",
   "execution_count": 6,
   "id": "4324ad6d-d16e-44a4-b543-18be50afc54c",
   "metadata": {},
   "outputs": [
    {
     "name": "stdout",
     "output_type": "stream",
     "text": [
      "\n",
      "추천 결과 for user_0: ['Delta Force', 'Awaria', 'We Were Here', 'Ghost Master', 'Streets of Rogue']\n"
     ]
    }
   ],
   "source": [
    "# 6. 추천 예시\n",
    "# ----------------------\n",
    "print(\"\\n추천 결과 for user_0:\", svd_recommend(\"user_0\", top_n=5))"
   ]
  },
  {
   "cell_type": "code",
   "execution_count": null,
   "id": "06386559-9f60-488d-8d40-119da58ee7ad",
   "metadata": {},
   "outputs": [],
   "source": []
  },
  {
   "cell_type": "code",
   "execution_count": null,
   "id": "b44a6f17-8ad3-4102-ba0d-ac551ff3e267",
   "metadata": {},
   "outputs": [],
   "source": []
  }
 ],
 "metadata": {
  "kernelspec": {
   "display_name": "ml_project",
   "language": "python",
   "name": "ml_project"
  },
  "language_info": {
   "codemirror_mode": {
    "name": "ipython",
    "version": 3
   },
   "file_extension": ".py",
   "mimetype": "text/x-python",
   "name": "python",
   "nbconvert_exporter": "python",
   "pygments_lexer": "ipython3",
   "version": "3.11.9"
  }
 },
 "nbformat": 4,
 "nbformat_minor": 5
}
